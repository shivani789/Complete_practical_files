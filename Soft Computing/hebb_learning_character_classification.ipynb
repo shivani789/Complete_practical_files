{
  "nbformat": 4,
  "nbformat_minor": 0,
  "metadata": {
    "colab": {
      "name": "hebb learning  character classification.ipynb",
      "provenance": [],
      "authorship_tag": "ABX9TyNZ8xUNM6M1+5W68GizwpKg",
      "include_colab_link": true
    },
    "kernelspec": {
      "name": "python3",
      "display_name": "Python 3"
    }
  },
  "cells": [
    {
      "cell_type": "markdown",
      "metadata": {
        "id": "view-in-github",
        "colab_type": "text"
      },
      "source": [
        "<a href=\"https://colab.research.google.com/github/shivani789/Complete_practical_files/blob/main/hebb_learning_character_classification.ipynb\" target=\"_parent\"><img src=\"https://colab.research.google.com/assets/colab-badge.svg\" alt=\"Open In Colab\"/></a>"
      ]
    },
    {
      "cell_type": "code",
      "metadata": {
        "colab": {
          "base_uri": "https://localhost:8080/"
        },
        "id": "SQ3_UZSNKNHE",
        "outputId": "5bc790fe-56c3-4658-870f-687e718e6d9e"
      },
      "source": [
        "#correct code using 3*3 \r\n",
        "#tested on 4 examples \r\n",
        "import numpy as np \r\n",
        "\r\n",
        "c = np.array([\r\n",
        "              1, 1, 1,\r\n",
        "              1, -1, -1,\r\n",
        "              1, 1, 1\r\n",
        "])\r\n",
        "o = np.array([\r\n",
        "              1, 1, 1,\r\n",
        "              1, -1, 1,\r\n",
        "              1, 1, 1\r\n",
        "])\r\n",
        "inputs = np.append([np.append(c, 1)], [np.append(o, 1)], axis=0)\r\n",
        "print(inputs)"
      ],
      "execution_count": 22,
      "outputs": [
        {
          "output_type": "stream",
          "text": [
            "[[ 1  1  1  1 -1 -1  1  1  1  1]\n",
            " [ 1  1  1  1 -1  1  1  1  1  1]]\n"
          ],
          "name": "stdout"
        }
      ]
    },
    {
      "cell_type": "code",
      "metadata": {
        "colab": {
          "base_uri": "https://localhost:8080/"
        },
        "id": "45AX9_IxK3dg",
        "outputId": "0b665f41-feeb-4c01-b812-2a0fa6b87f06"
      },
      "source": [
        "y = np.array([1, -1])\r\n",
        "print(y) "
      ],
      "execution_count": 23,
      "outputs": [
        {
          "output_type": "stream",
          "text": [
            "[ 1 -1]\n"
          ],
          "name": "stdout"
        }
      ]
    },
    {
      "cell_type": "code",
      "metadata": {
        "colab": {
          "base_uri": "https://localhost:8080/"
        },
        "id": "sHc1UeODLBI7",
        "outputId": "04238b57-dbb0-4a3f-d8ca-7764efe3e209"
      },
      "source": [
        "weights = np.zeros((10,), dtype = int)\r\n",
        "\r\n",
        "def print_weights(weights):\r\n",
        "  for i in range(9):\r\n",
        "    print(\"W%d = %d\" %(i+1, weights[i]))\r\n",
        "  print(\"B = %d\" %(weights[9]))\r\n",
        "\r\n",
        "print_weights(weights)"
      ],
      "execution_count": 24,
      "outputs": [
        {
          "output_type": "stream",
          "text": [
            "W1 = 0\n",
            "W2 = 0\n",
            "W3 = 0\n",
            "W4 = 0\n",
            "W5 = 0\n",
            "W6 = 0\n",
            "W7 = 0\n",
            "W8 = 0\n",
            "W9 = 0\n",
            "B = 0\n"
          ],
          "name": "stdout"
        }
      ]
    },
    {
      "cell_type": "code",
      "metadata": {
        "colab": {
          "base_uri": "https://localhost:8080/"
        },
        "id": "lMYZQqB0Lm3G",
        "outputId": "22e0c19b-7676-4e93-d719-0e374274022e"
      },
      "source": [
        "for i in range(len(y)):\r\n",
        "  for j in range(len(weights)):\r\n",
        "    weights[j] = weights[j] + y[i]*inputs[i][j]\r\n",
        "  print(\"After Epoch %d, the weights are:\" %(i+1))\r\n",
        "  print_weights(weights)"
      ],
      "execution_count": 25,
      "outputs": [
        {
          "output_type": "stream",
          "text": [
            "After Epoch 1, the weights are:\n",
            "W1 = 1\n",
            "W2 = 1\n",
            "W3 = 1\n",
            "W4 = 1\n",
            "W5 = -1\n",
            "W6 = -1\n",
            "W7 = 1\n",
            "W8 = 1\n",
            "W9 = 1\n",
            "B = 1\n",
            "After Epoch 2, the weights are:\n",
            "W1 = 0\n",
            "W2 = 0\n",
            "W3 = 0\n",
            "W4 = 0\n",
            "W5 = 0\n",
            "W6 = -2\n",
            "W7 = 0\n",
            "W8 = 0\n",
            "W9 = 0\n",
            "B = 0\n"
          ],
          "name": "stdout"
        }
      ]
    },
    {
      "cell_type": "code",
      "metadata": {
        "colab": {
          "base_uri": "https://localhost:8080/"
        },
        "id": "uxqokFyQM8S7",
        "outputId": "bed13739-1b67-470e-db31-3dac557332c0"
      },
      "source": [
        "result=[]\r\n",
        "for i in range(len(y)):\r\n",
        "  ans=0\r\n",
        "  for j in range(len(weights)):\r\n",
        "    ans += y[i]*inputs[i][j]\r\n",
        "  result.append(ans)\r\n",
        "\r\n",
        "print(\"The final weights are:\")\r\n",
        "print_weights(weights)\r\n",
        "\r\n",
        "#the actual output matches the target output \r\n",
        "#for character c, output is positive and for o output is negative \r\n",
        "print(\"summation of product of xi and wi:\")\r\n",
        "print(result)"
      ],
      "execution_count": 26,
      "outputs": [
        {
          "output_type": "stream",
          "text": [
            "The final weights are:\n",
            "W1 = 0\n",
            "W2 = 0\n",
            "W3 = 0\n",
            "W4 = 0\n",
            "W5 = 0\n",
            "W6 = -2\n",
            "W7 = 0\n",
            "W8 = 0\n",
            "W9 = 0\n",
            "B = 0\n",
            "summation of product of xi and wi:\n",
            "[6, -8]\n"
          ],
          "name": "stdout"
        }
      ]
    },
    {
      "cell_type": "code",
      "metadata": {
        "colab": {
          "base_uri": "https://localhost:8080/"
        },
        "id": "-M3v_SRhMIXN",
        "outputId": "85f0f0d1-be2d-41eb-abdf-b3b31f01f701"
      },
      "source": [
        "#checking other inputs \r\n",
        "check1 = np.array([\r\n",
        "              1, 1, 1,\r\n",
        "              1, 1, 1,\r\n",
        "              1, 1, 1\r\n",
        "])\r\n",
        "\r\n",
        "check2 = np.array([\r\n",
        "              1, 1, 1,\r\n",
        "              -1, -1, 1,\r\n",
        "              1, 1, 1\r\n",
        "])\r\n",
        "\r\n",
        "inputs2 = np.append([np.append(check1, 1)], [np.append(c, 1)], axis=0)\r\n",
        "inputs3 = np.append([np.append(check1, 1)], [np.append(check2, 1)], axis=0)\r\n",
        "\r\n",
        "print(inputs2)\r\n",
        "print(\"\\n\")\r\n",
        "print(inputs3)"
      ],
      "execution_count": 35,
      "outputs": [
        {
          "output_type": "stream",
          "text": [
            "[[ 1  1  1  1  1  1  1  1  1  1]\n",
            " [ 1  1  1  1 -1 -1  1  1  1  1]]\n",
            "\n",
            "\n",
            "[[ 1  1  1  1  1  1  1  1  1  1]\n",
            " [ 1  1  1 -1 -1  1  1  1  1  1]]\n"
          ],
          "name": "stdout"
        }
      ]
    },
    {
      "cell_type": "code",
      "metadata": {
        "colab": {
          "base_uri": "https://localhost:8080/"
        },
        "id": "-8YlzAOoMoO1",
        "outputId": "05a6a9ff-f003-4641-a2cd-00163797087a"
      },
      "source": [
        "y = np.array([1, -1])\r\n",
        "print(y) "
      ],
      "execution_count": 28,
      "outputs": [
        {
          "output_type": "stream",
          "text": [
            "[ 1 -1]\n"
          ],
          "name": "stdout"
        }
      ]
    },
    {
      "cell_type": "code",
      "metadata": {
        "colab": {
          "base_uri": "https://localhost:8080/"
        },
        "id": "bhU3oBfdMpIu",
        "outputId": "d1fcb119-832b-4cfd-d515-0548c67dbf8b"
      },
      "source": [
        "weights2 = np.zeros((10,), dtype = int)\r\n",
        "\r\n",
        "def print_weights(weights2):\r\n",
        "  for i in range(9):\r\n",
        "    print(\"W%d = %d\" %(i+1, weights2[i]))\r\n",
        "  print(\"B = %d\" %(weights2[9]))\r\n",
        "\r\n",
        "print_weights(weights2)"
      ],
      "execution_count": 29,
      "outputs": [
        {
          "output_type": "stream",
          "text": [
            "W1 = 0\n",
            "W2 = 0\n",
            "W3 = 0\n",
            "W4 = 0\n",
            "W5 = 0\n",
            "W6 = 0\n",
            "W7 = 0\n",
            "W8 = 0\n",
            "W9 = 0\n",
            "B = 0\n"
          ],
          "name": "stdout"
        }
      ]
    },
    {
      "cell_type": "code",
      "metadata": {
        "colab": {
          "base_uri": "https://localhost:8080/"
        },
        "id": "Z7MpunPmR7eY",
        "outputId": "dfd9486c-5a0a-43bb-bba4-072a56d4f3b5"
      },
      "source": [
        "weights3 = np.zeros((10,), dtype = int)\r\n",
        "\r\n",
        "def print_weights(weights3):\r\n",
        "  for i in range(9):\r\n",
        "    print(\"W%d = %d\" %(i+1, weights3[i]))\r\n",
        "  print(\"B = %d\" %(weights3[9]))\r\n",
        "\r\n",
        "print_weights(weights3)"
      ],
      "execution_count": 36,
      "outputs": [
        {
          "output_type": "stream",
          "text": [
            "W1 = 0\n",
            "W2 = 0\n",
            "W3 = 0\n",
            "W4 = 0\n",
            "W5 = 0\n",
            "W6 = 0\n",
            "W7 = 0\n",
            "W8 = 0\n",
            "W9 = 0\n",
            "B = 0\n"
          ],
          "name": "stdout"
        }
      ]
    },
    {
      "cell_type": "code",
      "metadata": {
        "colab": {
          "base_uri": "https://localhost:8080/"
        },
        "id": "k3l5FNDDMw4g",
        "outputId": "8f971d17-f4dc-440e-b0a5-89341b3bd717"
      },
      "source": [
        "for i in range(len(y)):\r\n",
        "  for j in range(len(weights2)):\r\n",
        "    weights2[j] = weights2[j] + y[i]*inputs2[i][j]\r\n",
        "  print(\"After Epoch %d, the weights are:\" %(i+1))\r\n",
        "  print_weights(weights2)"
      ],
      "execution_count": 30,
      "outputs": [
        {
          "output_type": "stream",
          "text": [
            "After Epoch 1, the weights are:\n",
            "W1 = 1\n",
            "W2 = 1\n",
            "W3 = 1\n",
            "W4 = 1\n",
            "W5 = 1\n",
            "W6 = 1\n",
            "W7 = 1\n",
            "W8 = 1\n",
            "W9 = 1\n",
            "B = 1\n",
            "After Epoch 2, the weights are:\n",
            "W1 = 0\n",
            "W2 = 0\n",
            "W3 = 0\n",
            "W4 = 0\n",
            "W5 = 2\n",
            "W6 = 2\n",
            "W7 = 0\n",
            "W8 = 0\n",
            "W9 = 0\n",
            "B = 0\n"
          ],
          "name": "stdout"
        }
      ]
    },
    {
      "cell_type": "code",
      "metadata": {
        "colab": {
          "base_uri": "https://localhost:8080/"
        },
        "id": "Uftji7rQNXPF",
        "outputId": "30ae6c15-aa56-4ee6-e885-e4ba332cbd4b"
      },
      "source": [
        "result2=[]\r\n",
        "for i in range(len(y)):\r\n",
        "  ans2=0\r\n",
        "  for j in range(len(weights2)):\r\n",
        "    ans2 += y[i]*inputs2[i][j]\r\n",
        "  result2.append(ans2)\r\n",
        "\r\n",
        "print(\"The final weights are:\")\r\n",
        "print_weights(weights2)\r\n",
        "\r\n",
        "#the actual output matches the target output \r\n",
        "#for character c, output is positive and for o output is negative \r\n",
        "print(\"summation of product of xi and wi:\")\r\n",
        "print(result2)"
      ],
      "execution_count": 47,
      "outputs": [
        {
          "output_type": "stream",
          "text": [
            "The final weights are:\n",
            "W1 = 0\n",
            "W2 = 0\n",
            "W3 = 0\n",
            "W4 = 0\n",
            "W5 = 2\n",
            "W6 = 2\n",
            "W7 = 0\n",
            "W8 = 0\n",
            "W9 = 0\n",
            "B = 0\n",
            "summation of product of xi and wi:\n",
            "[10, -6]\n"
          ],
          "name": "stdout"
        }
      ]
    },
    {
      "cell_type": "code",
      "metadata": {
        "colab": {
          "base_uri": "https://localhost:8080/"
        },
        "id": "ijxfYFQ5SFuz",
        "outputId": "7e30b29b-9de9-44c2-9d93-ea2617d28101"
      },
      "source": [
        "for i in range(len(y)):\r\n",
        "  for j in range(len(weights3)):\r\n",
        "    weights3[j] = weights3[j] + y[i]*inputs3[i][j]\r\n",
        "  print(\"After Epoch %d, the weights are:\" %(i+1))\r\n",
        "  print_weights(weights3)"
      ],
      "execution_count": 37,
      "outputs": [
        {
          "output_type": "stream",
          "text": [
            "After Epoch 1, the weights are:\n",
            "W1 = 1\n",
            "W2 = 1\n",
            "W3 = 1\n",
            "W4 = 1\n",
            "W5 = 1\n",
            "W6 = 1\n",
            "W7 = 1\n",
            "W8 = 1\n",
            "W9 = 1\n",
            "B = 1\n",
            "After Epoch 2, the weights are:\n",
            "W1 = 0\n",
            "W2 = 0\n",
            "W3 = 0\n",
            "W4 = 2\n",
            "W5 = 2\n",
            "W6 = 0\n",
            "W7 = 0\n",
            "W8 = 0\n",
            "W9 = 0\n",
            "B = 0\n"
          ],
          "name": "stdout"
        }
      ]
    },
    {
      "cell_type": "code",
      "metadata": {
        "colab": {
          "base_uri": "https://localhost:8080/"
        },
        "id": "DBS6DI96SbVy",
        "outputId": "e7709b1c-354e-4e56-b2cb-57ff2671d956"
      },
      "source": [
        "result3=[]\r\n",
        "for i in range(len(y)):\r\n",
        "  ans3=0\r\n",
        "  for j in range(len(weights3)):\r\n",
        "    ans3 += y[i]*inputs3[i][j]\r\n",
        "  result3.append(ans3)\r\n",
        "\r\n",
        "print(\"The final weights are:\")\r\n",
        "print_weights(weights3)\r\n",
        "\r\n",
        "#the actual output matches the target output \r\n",
        "#for character c, output is positive and for o output is negative \r\n",
        "print(\"summation of product of xi and wi:\")\r\n",
        "print(result3)"
      ],
      "execution_count": 46,
      "outputs": [
        {
          "output_type": "stream",
          "text": [
            "The final weights are:\n",
            "W1 = 0\n",
            "W2 = 0\n",
            "W3 = 0\n",
            "W4 = 2\n",
            "W5 = 2\n",
            "W6 = 0\n",
            "W7 = 0\n",
            "W8 = 0\n",
            "W9 = 0\n",
            "B = 0\n",
            "summation of product of xi and wi:\n",
            "[10, -6]\n"
          ],
          "name": "stdout"
        }
      ]
    },
    {
      "cell_type": "code",
      "metadata": {
        "colab": {
          "base_uri": "https://localhost:8080/"
        },
        "id": "6Iw-BIrLT2na",
        "outputId": "c863c32b-ac97-4476-b3f0-f61a45b44f20"
      },
      "source": [
        "#testing on solved problem of sivanandam and deepa\r\n",
        "import numpy as np \r\n",
        "\r\n",
        "l = np.array([\r\n",
        "              1, -1, -1,\r\n",
        "              1, -1, -1,\r\n",
        "              1, 1, 1\r\n",
        "])\r\n",
        "u = np.array([\r\n",
        "              1, -1, 1,\r\n",
        "              1, -1, 1,\r\n",
        "              1, 1, 1\r\n",
        "])\r\n",
        "inputs_solved = np.append([np.append(l, 1)], [np.append(u, 1)], axis=0)\r\n",
        "print(inputs_solved)"
      ],
      "execution_count": 40,
      "outputs": [
        {
          "output_type": "stream",
          "text": [
            "[[ 1 -1 -1  1 -1 -1  1  1  1  1]\n",
            " [ 1 -1  1  1 -1  1  1  1  1  1]]\n"
          ],
          "name": "stdout"
        }
      ]
    },
    {
      "cell_type": "code",
      "metadata": {
        "colab": {
          "base_uri": "https://localhost:8080/"
        },
        "id": "sj437_MSUOsy",
        "outputId": "1cac6bb2-0309-4475-f223-0c1c0fb78ed0"
      },
      "source": [
        "y = np.array([1, -1])\r\n",
        "print(y) "
      ],
      "execution_count": 41,
      "outputs": [
        {
          "output_type": "stream",
          "text": [
            "[ 1 -1]\n"
          ],
          "name": "stdout"
        }
      ]
    },
    {
      "cell_type": "code",
      "metadata": {
        "colab": {
          "base_uri": "https://localhost:8080/"
        },
        "id": "29sfl5ikUSJF",
        "outputId": "9f113bdf-1ac1-4165-b297-d1e04f0242bf"
      },
      "source": [
        "weights_solved = np.zeros((10,), dtype = int)\r\n",
        "\r\n",
        "def print_weights_solved(weights_solved):\r\n",
        "  for i in range(9):\r\n",
        "    print(\"W%d = %d\" %(i+1, weights_solved[i]))\r\n",
        "  print(\"B = %d\" %(weights_solved[9]))\r\n",
        "\r\n",
        "print_weights(weights_solved)"
      ],
      "execution_count": 42,
      "outputs": [
        {
          "output_type": "stream",
          "text": [
            "W1 = 0\n",
            "W2 = 0\n",
            "W3 = 0\n",
            "W4 = 0\n",
            "W5 = 0\n",
            "W6 = 0\n",
            "W7 = 0\n",
            "W8 = 0\n",
            "W9 = 0\n",
            "B = 0\n"
          ],
          "name": "stdout"
        }
      ]
    },
    {
      "cell_type": "code",
      "metadata": {
        "colab": {
          "base_uri": "https://localhost:8080/"
        },
        "id": "pfBj-1d4Uluo",
        "outputId": "631b69a7-8b99-415c-ecb2-9197a78186e9"
      },
      "source": [
        "for i in range(len(y)):\r\n",
        "  for j in range(len(weights_solved)):\r\n",
        "    weights_solved[j] = weights_solved[j] + y[i]*inputs_solved[i][j]\r\n",
        "  print(\"After Epoch %d, the weights are:\" %(i+1))\r\n",
        "  print_weights(weights_solved)"
      ],
      "execution_count": 43,
      "outputs": [
        {
          "output_type": "stream",
          "text": [
            "After Epoch 1, the weights are:\n",
            "W1 = 1\n",
            "W2 = -1\n",
            "W3 = -1\n",
            "W4 = 1\n",
            "W5 = -1\n",
            "W6 = -1\n",
            "W7 = 1\n",
            "W8 = 1\n",
            "W9 = 1\n",
            "B = 1\n",
            "After Epoch 2, the weights are:\n",
            "W1 = 0\n",
            "W2 = 0\n",
            "W3 = -2\n",
            "W4 = 0\n",
            "W5 = 0\n",
            "W6 = -2\n",
            "W7 = 0\n",
            "W8 = 0\n",
            "W9 = 0\n",
            "B = 0\n"
          ],
          "name": "stdout"
        }
      ]
    },
    {
      "cell_type": "code",
      "metadata": {
        "colab": {
          "base_uri": "https://localhost:8080/"
        },
        "id": "UOXStEODUvj9",
        "outputId": "03b92cda-c8a0-4f75-8e94-2fee029e25d4"
      },
      "source": [
        "result_solved=[]\r\n",
        "for i in range(len(y)):\r\n",
        "  ans_solved=0\r\n",
        "  for j in range(len(weights_solved)):\r\n",
        "    ans_solved += y[i]*inputs_solved[i][j]\r\n",
        "  result_solved.append(ans_solved)\r\n",
        "\r\n",
        "print(\"The final weights are:\")\r\n",
        "print_weights(weights_solved)\r\n",
        "\r\n",
        "#the actual output matches the target output \r\n",
        "#for character c, output is positive and for o output is negative \r\n",
        "print(\"summation of product of xi and wi:\")\r\n",
        "print(result_solved)"
      ],
      "execution_count": 45,
      "outputs": [
        {
          "output_type": "stream",
          "text": [
            "The final weights are:\n",
            "W1 = 0\n",
            "W2 = 0\n",
            "W3 = -2\n",
            "W4 = 0\n",
            "W5 = 0\n",
            "W6 = -2\n",
            "W7 = 0\n",
            "W8 = 0\n",
            "W9 = 0\n",
            "B = 0\n",
            "summation of product of xi and wi:\n",
            "[2, -6]\n"
          ],
          "name": "stdout"
        }
      ]
    }
  ]
}
