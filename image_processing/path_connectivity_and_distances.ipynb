{
  "nbformat": 4,
  "nbformat_minor": 0,
  "metadata": {
    "colab": {
      "name": "path connectivity and distances.ipynb",
      "provenance": [],
      "authorship_tag": "ABX9TyNMcUAlhE7hDIsFdpt9EUAL",
      "include_colab_link": true
    },
    "kernelspec": {
      "name": "python3",
      "display_name": "Python 3"
    }
  },
  "cells": [
    {
      "cell_type": "markdown",
      "metadata": {
        "id": "view-in-github",
        "colab_type": "text"
      },
      "source": [
        "<a href=\"https://colab.research.google.com/github/shivani789/Complete_practical_files/blob/main/path_connectivity_and_distances.ipynb\" target=\"_parent\"><img src=\"https://colab.research.google.com/assets/colab-badge.svg\" alt=\"Open In Colab\"/></a>"
      ]
    },
    {
      "cell_type": "code",
      "metadata": {
        "id": "119hpU18GuJ9",
        "colab": {
          "base_uri": "https://localhost:8080/"
        },
        "outputId": "bc7bed00-6632-4661-e27c-eca781abcba4"
      },
      "source": [
        "# SHIVANI GUPTA \r\n",
        "# 2018UIT2586\r\n",
        "#practical 3- connectivity, distances \r\n",
        "import numpy as np\r\n",
        "import random\r\n",
        "import math\r\n",
        "from queue import Queue\r\n",
        "\r\n",
        "matrix = np.random.randint(4, size=(6,6))\r\n",
        "matrix"
      ],
      "execution_count": 11,
      "outputs": [
        {
          "output_type": "execute_result",
          "data": {
            "text/plain": [
              "array([[0, 3, 3, 2, 3, 0],\n",
              "       [1, 1, 2, 2, 2, 2],\n",
              "       [1, 3, 2, 0, 2, 0],\n",
              "       [3, 3, 3, 3, 2, 0],\n",
              "       [0, 0, 3, 1, 3, 2],\n",
              "       [1, 3, 3, 3, 2, 1]])"
            ]
          },
          "metadata": {
            "tags": []
          },
          "execution_count": 11
        }
      ]
    },
    {
      "cell_type": "code",
      "metadata": {
        "colab": {
          "base_uri": "https://localhost:8080/"
        },
        "id": "eWzGKu1Q65U6",
        "outputId": "db4e7c0a-555c-4b8c-f990-78e0dbf67c98"
      },
      "source": [
        "point1 = np.random.randint(6,size=(1,2))[0]\r\n",
        "point2 = np.random.randint(6,size=(1,2))[0]\r\n",
        "print(point1, point2)\r\n",
        "x1, y1 = point1[0], point1[1]\r\n",
        "x2,y2 = point2[0], point2[1]\r\n",
        "print(x1,y1,x2,y2)\r\n",
        "print(matrix[x1][y1], matrix[x2][y2])"
      ],
      "execution_count": 3,
      "outputs": [
        {
          "output_type": "stream",
          "text": [
            "[0 3] [1 2]\n",
            "0 3 1 2\n",
            "2 1\n"
          ],
          "name": "stdout"
        }
      ]
    },
    {
      "cell_type": "code",
      "metadata": {
        "colab": {
          "base_uri": "https://localhost:8080/"
        },
        "id": "GMNVexDX66dV",
        "outputId": "7df593c4-c296-42ac-ef38-1533abfa43c4"
      },
      "source": [
        "v = set([1,2])\r\n",
        "print(v)"
      ],
      "execution_count": 4,
      "outputs": [
        {
          "output_type": "stream",
          "text": [
            "{1, 2}\n"
          ],
          "name": "stdout"
        }
      ]
    },
    {
      "cell_type": "code",
      "metadata": {
        "id": "hCLi5H--7Fdx"
      },
      "source": [
        "def isConnected(x1,y1,x2,y2,matrix,visited,v):\r\n",
        "  if x2<0 or y2<0 or x2>=len(matrix) or y2>=len(matrix[0]):\r\n",
        "    return False\r\n",
        "  if visited[x2][y2]:\r\n",
        "    return False\r\n",
        "  if matrix[x1][y1] in v and matrix[x2][y2] in v:\r\n",
        "    return True\r\n",
        "  return False\r\n",
        "\r\n",
        "def FourConnectivity(x1,y1,x2,y2,matrix,v):\r\n",
        "  if x1==x2 and y1==y2:\r\n",
        "    print(\"The points are same\")\r\n",
        "    return 0\r\n",
        "  if matrix[x1][y1] not in v or matrix[x2][y2] not in v:\r\n",
        "    print(\"No 4-Path Exists between the points\")\r\n",
        "    return -1\r\n",
        "  q = Queue(maxsize=0)\r\n",
        "  visited = [[False for i in range(len(matrix[0]))] for i in range(len(matrix))]\r\n",
        "  q.put((x1, y1, 0))\r\n",
        "  visited[x1][y1]=True\r\n",
        "  a = [-1,1,0,0]\r\n",
        "  b = [0,0,-1,1]\r\n",
        "  while not q.empty():\r\n",
        "    t = q.get()\r\n",
        "    x,y,d = t[0],t[1],t[2]\r\n",
        "    if(x==x2 and y==y2):\r\n",
        "      print(\"4-Path exists with minimum distance =\", d)\r\n",
        "      return d\r\n",
        "    for i in range(4):\r\n",
        "      if isConnected(x,y,x+a[i],y+b[i],matrix,visited,v):\r\n",
        "        q.put((x+a[i], y+b[i],d+1))\r\n",
        "        visited[x+a[i]][y+b[i]] = True\r\n",
        "  print(\"No 4-Path Exists between the points\")\r\n",
        "  return -1\r\n",
        "\r\n",
        "def EightConnectivity(x1,y1,x2,y2,matrix,v):\r\n",
        "  if x1==x2 and y1==y2:\r\n",
        "    print(\"The points are same\")\r\n",
        "    return 0\r\n",
        "  if matrix[x1][y1] not in v or matrix[x2][y2] not in v:\r\n",
        "    print(\"No 8-Path Exists between the points\")\r\n",
        "    return -1\r\n",
        "  q = Queue(maxsize=0)\r\n",
        "  visited = [[False for i in range(len(matrix[0]))] for i in range(len(matrix))]\r\n",
        "  q.put((x1,y1,0))\r\n",
        "  visited[x1][y1]=True\r\n",
        "  a = [-1,1,0,0,1,-1,1,-1]\r\n",
        "  b = [0,0,-1,1,-1,1,1,-1]\r\n",
        "  while not q.empty():\r\n",
        "    t = q.get()\r\n",
        "    x,y,d = t[0],t[1],t[2]\r\n",
        "    if(x==x2 and y==y2):\r\n",
        "      print(\"8-Path exists with minimum distance =\", d)\r\n",
        "      return d\r\n",
        "    for i in range(8):\r\n",
        "      if isConnected(x,y,x+a[i],y+b[i],matrix,visited,v):\r\n",
        "        q.put((x+a[i],y+b[i],d+1))\r\n",
        "        visited[x+a[i]][y+b[i]] = True\r\n",
        "  print(\"No 8-Path Exists between the points\")\r\n",
        "  return -1\r\n",
        "\r\n",
        "def mConnectivity(x1,y1,x2,y2,matrix,v):\r\n",
        "  if matrix[x1][y1] not in v or matrix[x2][y2] not in v:\r\n",
        "    print(\"No m-Path Exists between the points\")\r\n",
        "    return -1\r\n",
        "  q = Queue(maxsize=0)\r\n",
        "  visited = [[False for i in range(len(matrix[0]))] for i in range(len(matrix))]\r\n",
        "  q.put((x1,y1,0))\r\n",
        "  visited[x1][y1]=True\r\n",
        "  a = [-1,1,0,0]\r\n",
        "  b = [0,0,-1,1]\r\n",
        "  a1 = [-1,1,-1,1]\r\n",
        "  b1 = [1,-1,-1,1]\r\n",
        "  v1 = set()\r\n",
        "  v2 = set()\r\n",
        "  while not q.empty():\r\n",
        "    t = q.get()\r\n",
        "    x,y,d = t[0],t[1],t[2]\r\n",
        "    if(x==x2 and y==y2):\r\n",
        "      print(\"m-Path exists with minimum distance =\", d)\r\n",
        "      return d\r\n",
        "    for i in range(4):\r\n",
        "      if isConnected(x,y,x+a[i],y+b[i],matrix,visited,v):\r\n",
        "        q.put((x+a[i], y+b[i],d+1))\r\n",
        "        visited[x+a[i]][y+b[i]] = True\r\n",
        "        v1.add(x+a[i])\r\n",
        "        v2.add(y+b[i])\r\n",
        "    for i in range(4):\r\n",
        "      if (x+a1[i] not in v1) and (y+b1[i] not in v2) and isConnected(x,y,x+a1[i], y+b1[i], matrix, visited, v):\r\n",
        "        q.put((x+a1[i], y+b1[i],d+1))\r\n",
        "        visited[x+a1[i]][y+b1[i]] = True\r\n",
        "    v1.clear()\r\n",
        "    v2.clear()\r\n",
        "  print(\"No m-Path Exists between the points\")\r\n",
        "  return -1\r\n"
      ],
      "execution_count": 23,
      "outputs": []
    },
    {
      "cell_type": "code",
      "metadata": {
        "colab": {
          "base_uri": "https://localhost:8080/"
        },
        "id": "LHaUAo9JAzo9",
        "outputId": "4f0d8b6d-ee22-4767-a00f-f19daa3e501a"
      },
      "source": [
        "FourConnectivity(x1,y1,x2,y2,matrix,v)\r\n",
        "EightConnectivity(x1,y1,x2,y2,matrix,v)\r\n",
        "mConnectivity(x1,y1,x2,y2,matrix,v)\r\n",
        "print()"
      ],
      "execution_count": 24,
      "outputs": [
        {
          "output_type": "stream",
          "text": [
            "4-Path exists with minimum distance = 2\n",
            "8-Path exists with minimum distance = 1\n",
            "m-Path exists with minimum distance = 2\n",
            "\n"
          ],
          "name": "stdout"
        }
      ]
    },
    {
      "cell_type": "code",
      "metadata": {
        "colab": {
          "base_uri": "https://localhost:8080/"
        },
        "id": "TAj7Hlms8Ril",
        "outputId": "433ca146-0c3e-4d61-e247-a1710e8c4873"
      },
      "source": [
        "import math\r\n",
        "\r\n",
        "p1 = tuple(list(input(\"Enter point 1: \").split(',')))\r\n",
        "p2 = tuple(list(input(\"Enter point 2: \").split(',')))\r\n",
        "def euc_dist(p1, p2):\r\n",
        "  return math.sqrt(pow(int(p1[0])-int(p2[0]), 2)+pow(int(p1[1])-int(p2[1]), 2))\r\n",
        "\r\n",
        "def city_block_dist(p1,p2):\r\n",
        "  return abs(int(p1[0])-int(p2[0]))+abs(int(p1[1])-int(p2[1]))\r\n",
        "\r\n",
        "def chessboard_dist(p1,p2):\r\n",
        "  return max(abs(int(p1[0])-int(p2[0])),abs(int(p1[1])-int(p2[1])))\r\n",
        "\r\n",
        "print(\"Euclidean Distance\", euc_dist(p1, p2))\r\n",
        "print(\"City Block Distance\",city_block_dist(p1,p2))\r\n",
        "print(\"Chessboard Distance\",chessboard_dist(p1,p2))"
      ],
      "execution_count": 7,
      "outputs": [
        {
          "output_type": "stream",
          "text": [
            "Enter point 1: 3, 6\n",
            "Enter point 2: 7, 2\n",
            "Euclidean Distance 5.656854249492381\n",
            "City Block Distance 8\n",
            "Chessboard Distance 4\n"
          ],
          "name": "stdout"
        }
      ]
    }
  ]
}
