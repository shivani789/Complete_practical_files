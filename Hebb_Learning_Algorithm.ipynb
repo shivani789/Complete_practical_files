{
  "nbformat": 4,
  "nbformat_minor": 0,
  "metadata": {
    "colab": {
      "name": "Hebb Learning.ipynb",
      "provenance": [],
      "authorship_tag": "ABX9TyNna5ei0kbr6G1Vc75xjKKf",
      "include_colab_link": true
    },
    "kernelspec": {
      "name": "python3",
      "display_name": "Python 3"
    }
  },
  "cells": [
    {
      "cell_type": "markdown",
      "metadata": {
        "id": "view-in-github",
        "colab_type": "text"
      },
      "source": [
        "<a href=\"https://colab.research.google.com/github/shivani789/Complete_practical_files/blob/main/Hebb_Learning_Algorithm.ipynb\" target=\"_parent\"><img src=\"https://colab.research.google.com/assets/colab-badge.svg\" alt=\"Open In Colab\"/></a>"
      ]
    },
    {
      "cell_type": "code",
      "metadata": {
        "colab": {
          "base_uri": "https://localhost:8080/"
        },
        "id": "VW9-yrvmUvly",
        "outputId": "1e100a4e-56ff-4204-fd82-72a546547380"
      },
      "source": [
        "from random import choice\r\n",
        "import numpy as np\r\n",
        "import matplotlib.pyplot as plt\r\n",
        "np.random.seed(1)\r\n",
        "\r\n",
        "activation = lambda x: -1 if x < 0 else 1\r\n",
        "\r\n",
        "training_data = [ (np.array([-1,-1,1]), 1),\r\n",
        "                 (np.array([-1,1,1]), 1),\r\n",
        "                 (np.array([1,-1,1]), 1),\r\n",
        "                 (np.array([1,1,1]), -1),\r\n",
        "                ]\r\n",
        "\r\n",
        "# model parameters\r\n",
        "learning_rate = 0.2 \r\n",
        "training_steps = 100\r\n",
        "\r\n",
        "# initialize weights \r\n",
        "W = np.random.rand(3) \r\n",
        "\r\n",
        "for i in range(training_steps):\r\n",
        "    \r\n",
        "    x, y = choice(training_data)\r\n",
        "    update = learning_rate * y * x \r\n",
        "    W += update\r\n",
        "\r\n",
        "print(\"Weights after Training: \")\r\n",
        "print(W)"
      ],
      "execution_count": 1,
      "outputs": [
        {
          "output_type": "stream",
          "text": [
            "Weights after Training: \n",
            "[-7.182978   -7.67967551 12.00011437]\n"
          ],
          "name": "stdout"
        }
      ]
    }
  ]
}